{
 "cells": [
  {
   "cell_type": "code",
   "execution_count": 1,
   "id": "geographic-north",
   "metadata": {
    "_cell_guid": "b1076dfc-b9ad-4769-8c92-a6c4dae69d19",
    "_uuid": "8f2839f25d086af736a60e9eeb907d3b93b6e0e5",
    "execution": {
     "iopub.execute_input": "2021-04-20T14:34:44.356081Z",
     "iopub.status.busy": "2021-04-20T14:34:44.355140Z",
     "iopub.status.idle": "2021-04-20T14:34:51.042649Z",
     "shell.execute_reply": "2021-04-20T14:34:51.041790Z"
    },
    "papermill": {
     "duration": 6.715678,
     "end_time": "2021-04-20T14:34:51.042862",
     "exception": false,
     "start_time": "2021-04-20T14:34:44.327184",
     "status": "completed"
    },
    "tags": []
   },
   "outputs": [
    {
     "name": "stdout",
     "output_type": "stream",
     "text": [
      "/kaggle/input/hackathon2021/sample_submission.csv\n",
      "/kaggle/input/hackathon2021/train.csv/train.csv\n",
      "/kaggle/input/hackathon2021/test.csv/test.csv\n"
     ]
    }
   ],
   "source": [
    "# This Python 3 environment comes with many helpful analytics libraries installed\n",
    "# It is defined by the kaggle/python Docker image: https://github.com/kaggle/docker-python\n",
    "# For example, here's several helpful packages to load\n",
    "\n",
    "import numpy as np # linear algebra\n",
    "import pandas as pd # data processing, CSV file I/O (e.g. pd.read_csv)\n",
    "import tensorflow as tf\n",
    "from tensorflow.keras import datasets, layers, models\n",
    "import matplotlib.pyplot as plt\n",
    "# Input data files are available in the read-only \"../input/\" directory\n",
    "# For example, running this (by clicking run or pressing Shift+Enter) will list all files under the input directory\n",
    "\n",
    "import os\n",
    "for dirname, _, filenames in os.walk('/kaggle/input'):\n",
    "    for filename in filenames:\n",
    "        print(os.path.join(dirname, filename))\n",
    "\n",
    "# You can write up to 20GB to the current directory (/kaggle/working/) that gets preserved as output when you create a version using \"Save & Run All\" \n",
    "# You can also write temporary files to /kaggle/temp/, but they won't be saved outside of the current session"
   ]
  },
  {
   "cell_type": "code",
   "execution_count": 2,
   "id": "pregnant-roads",
   "metadata": {
    "execution": {
     "iopub.execute_input": "2021-04-20T14:34:51.077964Z",
     "iopub.status.busy": "2021-04-20T14:34:51.077231Z",
     "iopub.status.idle": "2021-04-20T14:34:57.605803Z",
     "shell.execute_reply": "2021-04-20T14:34:57.605032Z"
    },
    "papermill": {
     "duration": 6.547826,
     "end_time": "2021-04-20T14:34:57.605960",
     "exception": false,
     "start_time": "2021-04-20T14:34:51.058134",
     "status": "completed"
    },
    "tags": []
   },
   "outputs": [],
   "source": [
    "#loading datasets\n",
    "train = pd.read_csv(\"/kaggle/input/hackathon2021/train.csv/train.csv\")\n",
    "test = pd.read_csv(\"/kaggle/input/hackathon2021/test.csv/test.csv\")"
   ]
  },
  {
   "cell_type": "code",
   "execution_count": 3,
   "id": "atomic-willow",
   "metadata": {
    "execution": {
     "iopub.execute_input": "2021-04-20T14:34:57.645160Z",
     "iopub.status.busy": "2021-04-20T14:34:57.644263Z",
     "iopub.status.idle": "2021-04-20T14:34:57.766646Z",
     "shell.execute_reply": "2021-04-20T14:34:57.765879Z"
    },
    "papermill": {
     "duration": 0.1473,
     "end_time": "2021-04-20T14:34:57.766854",
     "exception": false,
     "start_time": "2021-04-20T14:34:57.619554",
     "status": "completed"
    },
    "tags": []
   },
   "outputs": [],
   "source": [
    "train_labels = train['label']\n",
    "train_pixels = train.drop(columns = \"label\", axis = 1)\n",
    "test_pixels = test"
   ]
  },
  {
   "cell_type": "code",
   "execution_count": 4,
   "id": "mexican-africa",
   "metadata": {
    "execution": {
     "iopub.execute_input": "2021-04-20T14:34:57.803984Z",
     "iopub.status.busy": "2021-04-20T14:34:57.802993Z",
     "iopub.status.idle": "2021-04-20T14:34:57.826149Z",
     "shell.execute_reply": "2021-04-20T14:34:57.825473Z"
    },
    "papermill": {
     "duration": 0.045418,
     "end_time": "2021-04-20T14:34:57.826288",
     "exception": false,
     "start_time": "2021-04-20T14:34:57.780870",
     "status": "completed"
    },
    "tags": []
   },
   "outputs": [
    {
     "data": {
      "text/html": [
       "<div>\n",
       "<style scoped>\n",
       "    .dataframe tbody tr th:only-of-type {\n",
       "        vertical-align: middle;\n",
       "    }\n",
       "\n",
       "    .dataframe tbody tr th {\n",
       "        vertical-align: top;\n",
       "    }\n",
       "\n",
       "    .dataframe thead th {\n",
       "        text-align: right;\n",
       "    }\n",
       "</style>\n",
       "<table border=\"1\" class=\"dataframe\">\n",
       "  <thead>\n",
       "    <tr style=\"text-align: right;\">\n",
       "      <th></th>\n",
       "      <th>pixel0</th>\n",
       "      <th>pixel1</th>\n",
       "      <th>pixel2</th>\n",
       "      <th>pixel3</th>\n",
       "      <th>pixel4</th>\n",
       "      <th>pixel5</th>\n",
       "      <th>pixel6</th>\n",
       "      <th>pixel7</th>\n",
       "      <th>pixel8</th>\n",
       "      <th>pixel9</th>\n",
       "      <th>...</th>\n",
       "      <th>pixel774</th>\n",
       "      <th>pixel775</th>\n",
       "      <th>pixel776</th>\n",
       "      <th>pixel777</th>\n",
       "      <th>pixel778</th>\n",
       "      <th>pixel779</th>\n",
       "      <th>pixel780</th>\n",
       "      <th>pixel781</th>\n",
       "      <th>pixel782</th>\n",
       "      <th>pixel783</th>\n",
       "    </tr>\n",
       "  </thead>\n",
       "  <tbody>\n",
       "    <tr>\n",
       "      <th>0</th>\n",
       "      <td>0</td>\n",
       "      <td>0</td>\n",
       "      <td>0</td>\n",
       "      <td>0</td>\n",
       "      <td>0</td>\n",
       "      <td>0</td>\n",
       "      <td>0</td>\n",
       "      <td>0</td>\n",
       "      <td>0</td>\n",
       "      <td>0</td>\n",
       "      <td>...</td>\n",
       "      <td>0</td>\n",
       "      <td>0</td>\n",
       "      <td>0</td>\n",
       "      <td>0</td>\n",
       "      <td>0</td>\n",
       "      <td>0</td>\n",
       "      <td>0</td>\n",
       "      <td>0</td>\n",
       "      <td>0</td>\n",
       "      <td>0</td>\n",
       "    </tr>\n",
       "    <tr>\n",
       "      <th>1</th>\n",
       "      <td>0</td>\n",
       "      <td>0</td>\n",
       "      <td>0</td>\n",
       "      <td>0</td>\n",
       "      <td>0</td>\n",
       "      <td>0</td>\n",
       "      <td>0</td>\n",
       "      <td>0</td>\n",
       "      <td>0</td>\n",
       "      <td>0</td>\n",
       "      <td>...</td>\n",
       "      <td>0</td>\n",
       "      <td>0</td>\n",
       "      <td>0</td>\n",
       "      <td>0</td>\n",
       "      <td>0</td>\n",
       "      <td>0</td>\n",
       "      <td>0</td>\n",
       "      <td>0</td>\n",
       "      <td>0</td>\n",
       "      <td>0</td>\n",
       "    </tr>\n",
       "    <tr>\n",
       "      <th>2</th>\n",
       "      <td>0</td>\n",
       "      <td>0</td>\n",
       "      <td>0</td>\n",
       "      <td>0</td>\n",
       "      <td>0</td>\n",
       "      <td>0</td>\n",
       "      <td>0</td>\n",
       "      <td>0</td>\n",
       "      <td>0</td>\n",
       "      <td>0</td>\n",
       "      <td>...</td>\n",
       "      <td>0</td>\n",
       "      <td>0</td>\n",
       "      <td>0</td>\n",
       "      <td>0</td>\n",
       "      <td>0</td>\n",
       "      <td>0</td>\n",
       "      <td>0</td>\n",
       "      <td>0</td>\n",
       "      <td>0</td>\n",
       "      <td>0</td>\n",
       "    </tr>\n",
       "    <tr>\n",
       "      <th>3</th>\n",
       "      <td>0</td>\n",
       "      <td>0</td>\n",
       "      <td>0</td>\n",
       "      <td>0</td>\n",
       "      <td>0</td>\n",
       "      <td>0</td>\n",
       "      <td>0</td>\n",
       "      <td>0</td>\n",
       "      <td>0</td>\n",
       "      <td>0</td>\n",
       "      <td>...</td>\n",
       "      <td>0</td>\n",
       "      <td>0</td>\n",
       "      <td>0</td>\n",
       "      <td>0</td>\n",
       "      <td>0</td>\n",
       "      <td>0</td>\n",
       "      <td>0</td>\n",
       "      <td>0</td>\n",
       "      <td>0</td>\n",
       "      <td>0</td>\n",
       "    </tr>\n",
       "    <tr>\n",
       "      <th>4</th>\n",
       "      <td>0</td>\n",
       "      <td>0</td>\n",
       "      <td>0</td>\n",
       "      <td>0</td>\n",
       "      <td>0</td>\n",
       "      <td>0</td>\n",
       "      <td>0</td>\n",
       "      <td>0</td>\n",
       "      <td>0</td>\n",
       "      <td>0</td>\n",
       "      <td>...</td>\n",
       "      <td>0</td>\n",
       "      <td>0</td>\n",
       "      <td>0</td>\n",
       "      <td>0</td>\n",
       "      <td>0</td>\n",
       "      <td>0</td>\n",
       "      <td>0</td>\n",
       "      <td>0</td>\n",
       "      <td>0</td>\n",
       "      <td>0</td>\n",
       "    </tr>\n",
       "  </tbody>\n",
       "</table>\n",
       "<p>5 rows × 784 columns</p>\n",
       "</div>"
      ],
      "text/plain": [
       "   pixel0  pixel1  pixel2  pixel3  pixel4  pixel5  pixel6  pixel7  pixel8  \\\n",
       "0       0       0       0       0       0       0       0       0       0   \n",
       "1       0       0       0       0       0       0       0       0       0   \n",
       "2       0       0       0       0       0       0       0       0       0   \n",
       "3       0       0       0       0       0       0       0       0       0   \n",
       "4       0       0       0       0       0       0       0       0       0   \n",
       "\n",
       "   pixel9  ...  pixel774  pixel775  pixel776  pixel777  pixel778  pixel779  \\\n",
       "0       0  ...         0         0         0         0         0         0   \n",
       "1       0  ...         0         0         0         0         0         0   \n",
       "2       0  ...         0         0         0         0         0         0   \n",
       "3       0  ...         0         0         0         0         0         0   \n",
       "4       0  ...         0         0         0         0         0         0   \n",
       "\n",
       "   pixel780  pixel781  pixel782  pixel783  \n",
       "0         0         0         0         0  \n",
       "1         0         0         0         0  \n",
       "2         0         0         0         0  \n",
       "3         0         0         0         0  \n",
       "4         0         0         0         0  \n",
       "\n",
       "[5 rows x 784 columns]"
      ]
     },
     "execution_count": 4,
     "metadata": {},
     "output_type": "execute_result"
    }
   ],
   "source": [
    "train_pixels.head(5)"
   ]
  },
  {
   "cell_type": "code",
   "execution_count": 5,
   "id": "hourly-junior",
   "metadata": {
    "execution": {
     "iopub.execute_input": "2021-04-20T14:34:57.861092Z",
     "iopub.status.busy": "2021-04-20T14:34:57.860115Z",
     "iopub.status.idle": "2021-04-20T14:34:57.993023Z",
     "shell.execute_reply": "2021-04-20T14:34:57.993501Z"
    },
    "papermill": {
     "duration": 0.153028,
     "end_time": "2021-04-20T14:34:57.993703",
     "exception": false,
     "start_time": "2021-04-20T14:34:57.840675",
     "status": "completed"
    },
    "tags": []
   },
   "outputs": [],
   "source": [
    "#normalizing pixel values of test and train set to 0-1\n",
    "train_pixels, test_pixels = train_pixels / 255.0, test_pixels / 255.0"
   ]
  },
  {
   "cell_type": "code",
   "execution_count": 6,
   "id": "distinct-porter",
   "metadata": {
    "execution": {
     "iopub.execute_input": "2021-04-20T14:34:58.057788Z",
     "iopub.status.busy": "2021-04-20T14:34:58.056680Z",
     "iopub.status.idle": "2021-04-20T14:34:58.065460Z",
     "shell.execute_reply": "2021-04-20T14:34:58.065982Z"
    },
    "papermill": {
     "duration": 0.057497,
     "end_time": "2021-04-20T14:34:58.066172",
     "exception": false,
     "start_time": "2021-04-20T14:34:58.008675",
     "status": "completed"
    },
    "tags": []
   },
   "outputs": [
    {
     "data": {
      "text/html": [
       "<div>\n",
       "<style scoped>\n",
       "    .dataframe tbody tr th:only-of-type {\n",
       "        vertical-align: middle;\n",
       "    }\n",
       "\n",
       "    .dataframe tbody tr th {\n",
       "        vertical-align: top;\n",
       "    }\n",
       "\n",
       "    .dataframe thead th {\n",
       "        text-align: right;\n",
       "    }\n",
       "</style>\n",
       "<table border=\"1\" class=\"dataframe\">\n",
       "  <thead>\n",
       "    <tr style=\"text-align: right;\">\n",
       "      <th></th>\n",
       "      <th>pixel0</th>\n",
       "      <th>pixel1</th>\n",
       "      <th>pixel2</th>\n",
       "      <th>pixel3</th>\n",
       "      <th>pixel4</th>\n",
       "      <th>pixel5</th>\n",
       "      <th>pixel6</th>\n",
       "      <th>pixel7</th>\n",
       "      <th>pixel8</th>\n",
       "      <th>pixel9</th>\n",
       "      <th>...</th>\n",
       "      <th>pixel774</th>\n",
       "      <th>pixel775</th>\n",
       "      <th>pixel776</th>\n",
       "      <th>pixel777</th>\n",
       "      <th>pixel778</th>\n",
       "      <th>pixel779</th>\n",
       "      <th>pixel780</th>\n",
       "      <th>pixel781</th>\n",
       "      <th>pixel782</th>\n",
       "      <th>pixel783</th>\n",
       "    </tr>\n",
       "  </thead>\n",
       "  <tbody>\n",
       "    <tr>\n",
       "      <th>0</th>\n",
       "      <td>0.0</td>\n",
       "      <td>0.0</td>\n",
       "      <td>0.0</td>\n",
       "      <td>0.0</td>\n",
       "      <td>0.0</td>\n",
       "      <td>0.0</td>\n",
       "      <td>0.0</td>\n",
       "      <td>0.0</td>\n",
       "      <td>0.0</td>\n",
       "      <td>0.0</td>\n",
       "      <td>...</td>\n",
       "      <td>0.0</td>\n",
       "      <td>0.0</td>\n",
       "      <td>0.0</td>\n",
       "      <td>0.0</td>\n",
       "      <td>0.0</td>\n",
       "      <td>0.0</td>\n",
       "      <td>0.0</td>\n",
       "      <td>0.0</td>\n",
       "      <td>0.0</td>\n",
       "      <td>0.0</td>\n",
       "    </tr>\n",
       "    <tr>\n",
       "      <th>1</th>\n",
       "      <td>0.0</td>\n",
       "      <td>0.0</td>\n",
       "      <td>0.0</td>\n",
       "      <td>0.0</td>\n",
       "      <td>0.0</td>\n",
       "      <td>0.0</td>\n",
       "      <td>0.0</td>\n",
       "      <td>0.0</td>\n",
       "      <td>0.0</td>\n",
       "      <td>0.0</td>\n",
       "      <td>...</td>\n",
       "      <td>0.0</td>\n",
       "      <td>0.0</td>\n",
       "      <td>0.0</td>\n",
       "      <td>0.0</td>\n",
       "      <td>0.0</td>\n",
       "      <td>0.0</td>\n",
       "      <td>0.0</td>\n",
       "      <td>0.0</td>\n",
       "      <td>0.0</td>\n",
       "      <td>0.0</td>\n",
       "    </tr>\n",
       "    <tr>\n",
       "      <th>2</th>\n",
       "      <td>0.0</td>\n",
       "      <td>0.0</td>\n",
       "      <td>0.0</td>\n",
       "      <td>0.0</td>\n",
       "      <td>0.0</td>\n",
       "      <td>0.0</td>\n",
       "      <td>0.0</td>\n",
       "      <td>0.0</td>\n",
       "      <td>0.0</td>\n",
       "      <td>0.0</td>\n",
       "      <td>...</td>\n",
       "      <td>0.0</td>\n",
       "      <td>0.0</td>\n",
       "      <td>0.0</td>\n",
       "      <td>0.0</td>\n",
       "      <td>0.0</td>\n",
       "      <td>0.0</td>\n",
       "      <td>0.0</td>\n",
       "      <td>0.0</td>\n",
       "      <td>0.0</td>\n",
       "      <td>0.0</td>\n",
       "    </tr>\n",
       "    <tr>\n",
       "      <th>3</th>\n",
       "      <td>0.0</td>\n",
       "      <td>0.0</td>\n",
       "      <td>0.0</td>\n",
       "      <td>0.0</td>\n",
       "      <td>0.0</td>\n",
       "      <td>0.0</td>\n",
       "      <td>0.0</td>\n",
       "      <td>0.0</td>\n",
       "      <td>0.0</td>\n",
       "      <td>0.0</td>\n",
       "      <td>...</td>\n",
       "      <td>0.0</td>\n",
       "      <td>0.0</td>\n",
       "      <td>0.0</td>\n",
       "      <td>0.0</td>\n",
       "      <td>0.0</td>\n",
       "      <td>0.0</td>\n",
       "      <td>0.0</td>\n",
       "      <td>0.0</td>\n",
       "      <td>0.0</td>\n",
       "      <td>0.0</td>\n",
       "    </tr>\n",
       "    <tr>\n",
       "      <th>4</th>\n",
       "      <td>0.0</td>\n",
       "      <td>0.0</td>\n",
       "      <td>0.0</td>\n",
       "      <td>0.0</td>\n",
       "      <td>0.0</td>\n",
       "      <td>0.0</td>\n",
       "      <td>0.0</td>\n",
       "      <td>0.0</td>\n",
       "      <td>0.0</td>\n",
       "      <td>0.0</td>\n",
       "      <td>...</td>\n",
       "      <td>0.0</td>\n",
       "      <td>0.0</td>\n",
       "      <td>0.0</td>\n",
       "      <td>0.0</td>\n",
       "      <td>0.0</td>\n",
       "      <td>0.0</td>\n",
       "      <td>0.0</td>\n",
       "      <td>0.0</td>\n",
       "      <td>0.0</td>\n",
       "      <td>0.0</td>\n",
       "    </tr>\n",
       "  </tbody>\n",
       "</table>\n",
       "<p>5 rows × 784 columns</p>\n",
       "</div>"
      ],
      "text/plain": [
       "   pixel0  pixel1  pixel2  pixel3  pixel4  pixel5  pixel6  pixel7  pixel8  \\\n",
       "0     0.0     0.0     0.0     0.0     0.0     0.0     0.0     0.0     0.0   \n",
       "1     0.0     0.0     0.0     0.0     0.0     0.0     0.0     0.0     0.0   \n",
       "2     0.0     0.0     0.0     0.0     0.0     0.0     0.0     0.0     0.0   \n",
       "3     0.0     0.0     0.0     0.0     0.0     0.0     0.0     0.0     0.0   \n",
       "4     0.0     0.0     0.0     0.0     0.0     0.0     0.0     0.0     0.0   \n",
       "\n",
       "   pixel9  ...  pixel774  pixel775  pixel776  pixel777  pixel778  pixel779  \\\n",
       "0     0.0  ...       0.0       0.0       0.0       0.0       0.0       0.0   \n",
       "1     0.0  ...       0.0       0.0       0.0       0.0       0.0       0.0   \n",
       "2     0.0  ...       0.0       0.0       0.0       0.0       0.0       0.0   \n",
       "3     0.0  ...       0.0       0.0       0.0       0.0       0.0       0.0   \n",
       "4     0.0  ...       0.0       0.0       0.0       0.0       0.0       0.0   \n",
       "\n",
       "   pixel780  pixel781  pixel782  pixel783  \n",
       "0       0.0       0.0       0.0       0.0  \n",
       "1       0.0       0.0       0.0       0.0  \n",
       "2       0.0       0.0       0.0       0.0  \n",
       "3       0.0       0.0       0.0       0.0  \n",
       "4       0.0       0.0       0.0       0.0  \n",
       "\n",
       "[5 rows x 784 columns]"
      ]
     },
     "execution_count": 6,
     "metadata": {},
     "output_type": "execute_result"
    }
   ],
   "source": [
    "train_pixels.head(5)#after normalizing"
   ]
  },
  {
   "cell_type": "code",
   "execution_count": 7,
   "id": "straight-thompson",
   "metadata": {
    "execution": {
     "iopub.execute_input": "2021-04-20T14:34:58.121164Z",
     "iopub.status.busy": "2021-04-20T14:34:58.120416Z",
     "iopub.status.idle": "2021-04-20T14:34:58.298301Z",
     "shell.execute_reply": "2021-04-20T14:34:58.296875Z"
    },
    "papermill": {
     "duration": 0.215807,
     "end_time": "2021-04-20T14:34:58.298458",
     "exception": false,
     "start_time": "2021-04-20T14:34:58.082651",
     "status": "completed"
    },
    "tags": []
   },
   "outputs": [
    {
     "data": {
      "text/plain": [
       "<matplotlib.image.AxesImage at 0x7fce65585dd0>"
      ]
     },
     "execution_count": 7,
     "metadata": {},
     "output_type": "execute_result"
    },
    {
     "data": {
      "image/png": "[encoded data removed]",
      "text/plain": [
       "<Figure size 504x504 with 1 Axes>"
      ]
     },
     "metadata": {
      "needs_background": "light"
     },
     "output_type": "display_data"
    }
   ],
   "source": [
    "#image of imageid = 100 in train set\n",
    "plt.figure(figsize = (7,7))\n",
    "grid_data = np.array(train_pixels.iloc[100]).reshape(28,28)\n",
    "plt.imshow(grid_data,interpolation=\"none\",cmap = \"gray\")"
   ]
  },
  {
   "cell_type": "code",
   "execution_count": 8,
   "id": "noticed-arrest",
   "metadata": {
    "execution": {
     "iopub.execute_input": "2021-04-20T14:34:58.337539Z",
     "iopub.status.busy": "2021-04-20T14:34:58.336830Z",
     "iopub.status.idle": "2021-04-20T14:34:58.339885Z",
     "shell.execute_reply": "2021-04-20T14:34:58.339322Z"
    },
    "papermill": {
     "duration": 0.025193,
     "end_time": "2021-04-20T14:34:58.340028",
     "exception": false,
     "start_time": "2021-04-20T14:34:58.314835",
     "status": "completed"
    },
    "tags": []
   },
   "outputs": [],
   "source": [
    "#as cnn takse input of an image with size of height,width,color channels lets resize the train_pixels and test_pixels\n",
    "train_p = train_pixels.values.reshape(train_pixels.shape[0],28,28,1)\n",
    "test_p = test_pixels.values.reshape(test_pixels.shape[0],28,28,1)\n"
   ]
  },
  {
   "cell_type": "code",
   "execution_count": 9,
   "id": "compact-shell",
   "metadata": {
    "execution": {
     "iopub.execute_input": "2021-04-20T14:34:58.379475Z",
     "iopub.status.busy": "2021-04-20T14:34:58.378443Z",
     "iopub.status.idle": "2021-04-20T14:34:58.382369Z",
     "shell.execute_reply": "2021-04-20T14:34:58.382836Z"
    },
    "papermill": {
     "duration": 0.026444,
     "end_time": "2021-04-20T14:34:58.383030",
     "exception": false,
     "start_time": "2021-04-20T14:34:58.356586",
     "status": "completed"
    },
    "tags": []
   },
   "outputs": [
    {
     "data": {
      "text/plain": [
       "(42000, 28, 28, 1)"
      ]
     },
     "execution_count": 9,
     "metadata": {},
     "output_type": "execute_result"
    }
   ],
   "source": [
    "train_p.shape"
   ]
  },
  {
   "cell_type": "code",
   "execution_count": 10,
   "id": "domestic-recommendation",
   "metadata": {
    "execution": {
     "iopub.execute_input": "2021-04-20T14:34:58.421159Z",
     "iopub.status.busy": "2021-04-20T14:34:58.420014Z",
     "iopub.status.idle": "2021-04-20T14:34:58.598235Z",
     "shell.execute_reply": "2021-04-20T14:34:58.597654Z"
    },
    "papermill": {
     "duration": 0.198571,
     "end_time": "2021-04-20T14:34:58.598481",
     "exception": false,
     "start_time": "2021-04-20T14:34:58.399910",
     "status": "completed"
    },
    "tags": []
   },
   "outputs": [
    {
     "name": "stdout",
     "output_type": "stream",
     "text": [
      "Model: \"sequential\"\n",
      "_________________________________________________________________\n",
      "Layer (type)                 Output Shape              Param #   \n",
      "=================================================================\n",
      "conv2d (Conv2D)              (None, 26, 26, 64)        640       \n",
      "_________________________________________________________________\n",
      "max_pooling2d (MaxPooling2D) (None, 13, 13, 64)        0         \n",
      "_________________________________________________________________\n",
      "conv2d_1 (Conv2D)            (None, 11, 11, 64)        36928     \n",
      "_________________________________________________________________\n",
      "max_pooling2d_1 (MaxPooling2 (None, 5, 5, 64)          0         \n",
      "_________________________________________________________________\n",
      "conv2d_2 (Conv2D)            (None, 3, 3, 64)          36928     \n",
      "_________________________________________________________________\n",
      "flatten (Flatten)            (None, 576)               0         \n",
      "_________________________________________________________________\n",
      "dense (Dense)                (None, 128)               73856     \n",
      "_________________________________________________________________\n",
      "dense_1 (Dense)              (None, 10)                1290      \n",
      "=================================================================\n",
      "Total params: 149,642\n",
      "Trainable params: 149,642\n",
      "Non-trainable params: 0\n",
      "_________________________________________________________________\n"
     ]
    }
   ],
   "source": [
    "#Building Sequential Convolutional Neural Network with 3 convolutional neural network layers and 2 fully connected neural network layers\n",
    "model = models.Sequential()\n",
    "#adding layers\n",
    "model.add(layers.Conv2D(64, (3, 3), activation='relu', input_shape=(28, 28, 1)))\n",
    "model.add(layers.MaxPooling2D((2, 2)))\n",
    "model.add(layers.Conv2D(64, (3, 3), activation='relu'))\n",
    "model.add(layers.MaxPooling2D((2, 2)))\n",
    "model.add(layers.Conv2D(64, (3, 3), activation='relu'))\n",
    "model.add(layers.Flatten())\n",
    "model.add(layers.Dense(128, activation='relu'))\n",
    "model.add(layers.Dense(10))\n",
    "model.summary()"
   ]
  },
  {
   "cell_type": "code",
   "execution_count": 11,
   "id": "tutorial-glance",
   "metadata": {
    "execution": {
     "iopub.execute_input": "2021-04-20T14:34:58.658257Z",
     "iopub.status.busy": "2021-04-20T14:34:58.657235Z",
     "iopub.status.idle": "2021-04-20T14:40:39.097642Z",
     "shell.execute_reply": "2021-04-20T14:40:39.095710Z"
    },
    "papermill": {
     "duration": 340.477431,
     "end_time": "2021-04-20T14:40:39.097868",
     "exception": false,
     "start_time": "2021-04-20T14:34:58.620437",
     "status": "completed"
    },
    "tags": []
   },
   "outputs": [
    {
     "name": "stdout",
     "output_type": "stream",
     "text": [
      "Epoch 1/10\n",
      "1313/1313 [==============================] - 35s 26ms/step - loss: 0.3725 - accuracy: 0.8801 - val_loss: 0.0386 - val_accuracy: 0.9900\n",
      "Epoch 2/10\n",
      "1313/1313 [==============================] - 34s 26ms/step - loss: 0.0499 - accuracy: 0.9846 - val_loss: 0.0873 - val_accuracy: 0.9900\n",
      "Epoch 3/10\n",
      "1313/1313 [==============================] - 34s 26ms/step - loss: 0.0315 - accuracy: 0.9899 - val_loss: 0.0290 - val_accuracy: 0.9800\n",
      "Epoch 4/10\n",
      "1313/1313 [==============================] - 34s 26ms/step - loss: 0.0253 - accuracy: 0.9915 - val_loss: 0.0318 - val_accuracy: 0.9900\n",
      "Epoch 5/10\n",
      "1313/1313 [==============================] - 34s 26ms/step - loss: 0.0197 - accuracy: 0.9938 - val_loss: 0.0035 - val_accuracy: 1.0000\n",
      "Epoch 6/10\n",
      "1313/1313 [==============================] - 34s 26ms/step - loss: 0.0149 - accuracy: 0.9950 - val_loss: 0.0024 - val_accuracy: 1.0000\n",
      "Epoch 7/10\n",
      "1313/1313 [==============================] - 34s 26ms/step - loss: 0.0134 - accuracy: 0.9957 - val_loss: 0.0088 - val_accuracy: 1.0000\n",
      "Epoch 8/10\n",
      "1313/1313 [==============================] - 34s 26ms/step - loss: 0.0112 - accuracy: 0.9967 - val_loss: 0.0187 - val_accuracy: 0.9900\n",
      "Epoch 9/10\n",
      "1313/1313 [==============================] - 34s 26ms/step - loss: 0.0089 - accuracy: 0.9974 - val_loss: 0.0026 - val_accuracy: 1.0000\n",
      "Epoch 10/10\n",
      "1313/1313 [==============================] - 34s 26ms/step - loss: 0.0077 - accuracy: 0.9977 - val_loss: 0.0059 - val_accuracy: 1.0000\n"
     ]
    }
   ],
   "source": [
    "model.compile(optimizer='adam',\n",
    "              loss=tf.keras.losses.SparseCategoricalCrossentropy(from_logits=True),\n",
    "              metrics=['accuracy'])\n",
    "\n",
    "history = model.fit(train_p, train_labels, epochs=10, \n",
    "                    validation_data=(train_p[:100], train_labels[:100]))"
   ]
  },
  {
   "cell_type": "code",
   "execution_count": 12,
   "id": "unknown-cursor",
   "metadata": {
    "execution": {
     "iopub.execute_input": "2021-04-20T14:40:42.593224Z",
     "iopub.status.busy": "2021-04-20T14:40:42.592464Z",
     "iopub.status.idle": "2021-04-20T14:40:49.154646Z",
     "shell.execute_reply": "2021-04-20T14:40:49.153957Z"
    },
    "papermill": {
     "duration": 8.327014,
     "end_time": "2021-04-20T14:40:49.154851",
     "exception": false,
     "start_time": "2021-04-20T14:40:40.827837",
     "status": "completed"
    },
    "tags": []
   },
   "outputs": [],
   "source": [
    "#predicting testset\n",
    "sub = model.predict(test_p)"
   ]
  },
  {
   "cell_type": "code",
   "execution_count": 13,
   "id": "undefined-valley",
   "metadata": {
    "execution": {
     "iopub.execute_input": "2021-04-20T14:40:52.673490Z",
     "iopub.status.busy": "2021-04-20T14:40:52.672332Z",
     "iopub.status.idle": "2021-04-20T14:40:52.783790Z",
     "shell.execute_reply": "2021-04-20T14:40:52.783104Z"
    },
    "papermill": {
     "duration": 1.885872,
     "end_time": "2021-04-20T14:40:52.783933",
     "exception": false,
     "start_time": "2021-04-20T14:40:50.898061",
     "status": "completed"
    },
    "tags": []
   },
   "outputs": [
    {
     "name": "stdout",
     "output_type": "stream",
     "text": [
      "4\n"
     ]
    },
    {
     "data": {
      "image/png": "[encoded data removed]",
      "text/plain": [
       "<Figure size 504x504 with 1 Axes>"
      ]
     },
     "metadata": {
      "needs_background": "light"
     },
     "output_type": "display_data"
    }
   ],
   "source": [
    "#testing for one image\n",
    "plt.figure(figsize = (7,7))\n",
    "grid_data = np.array(test_pixels.iloc[150]).reshape(28,28)\n",
    "plt.imshow(grid_data,interpolation=\"none\",cmap = \"gray\")\n",
    "print(np.argmax(sub[150])) #because we've got the predictions in a ndimensional numpy array and we'll display the max value "
   ]
  }
 ],
 "metadata": {
  "kernelspec": {
   "display_name": "Python 3 (ipykernel)",
   "language": "python",
   "name": "python3"
  },
  "language_info": {
   "codemirror_mode": {
    "name": "ipython",
    "version": 3
   },
   "file_extension": ".py",
   "mimetype": "text/x-python",
   "name": "python",
   "nbconvert_exporter": "python",
   "pygments_lexer": "ipython3",
   "version": "3.9.13"
  },
  "papermill": {
   "default_parameters": {},
   "duration": 395.66387,
   "end_time": "2021-04-20T14:41:13.196798",
   "environment_variables": {},
   "exception": null,
   "input_path": "__notebook__.ipynb",
   "output_path": "__notebook__.ipynb",
   "parameters": {},
   "start_time": "2021-04-20T14:34:37.532928",
   "version": "2.3.2"
  }
 },
 "nbformat": 4,
 "nbformat_minor": 5
}
